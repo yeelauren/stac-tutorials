{
 "cells": [
  {
   "cell_type": "markdown",
   "source": [
    "# Find STAC Imagery to use using Pystac-client\n",
    "\n",
    "We will be using the SAT-Client library to search for a library\n",
    "https://github.com/sat-utils/sat-search\n",
    "\n",
    "We can install it using: `pip install pystac-client`\n",
    "\n",
    "We will be accessing the Sentinel-2 L2A datasets. We can read the documentation on this particular data set here: https://roda.sentinel-hub.com/sentinel-s2-l2a/readme.html\n",
    "\n",
    "## Requirements\n",
    "\n",
    "- Python version\n",
    "- Stac version\n",
    "- OS\n",
    "\n",
    "## Docker Container\n",
    "\n",
    "\n",
    "**Objectives**\n",
    "\n",
    "-  learn how to use Stac Search to search for and download imagery\n"
   ],
   "metadata": {}
  },
  {
   "cell_type": "markdown",
   "source": [
    "Set-up: \n",
    "\n",
    "\n",
    "1. Ensure your configuration options include `AWS_NO__SIGN_REQUEST = YES`\n",
    "\n",
    " https://gdal.org/user/virtual_file_systems.html\n",
    "\n",
    " https://github.com/cogeotiff/rio-tiler/issues/19\n",
    "\n",
    " https://boto3.amazonaws.com/v1/documentation/api/latest/guide/configuration.html\n",
    "\n",
    " https://github.com/sentinel-hub/custom-scripts"
   ],
   "metadata": {}
  },
  {
   "cell_type": "markdown",
   "source": [
    "If the same URL is to be used over and over, define an environment variable to be used :\n",
    "`os.environ['STAC_API_URL']=https://earth-search.aws.element84.com/v0`"
   ],
   "metadata": {}
  },
  {
   "cell_type": "code",
   "execution_count": 1,
   "source": [
    "import os\n",
    "# Set environment\n",
    "os.environ['AWS_NO_SIGN_REQUEST']='YES'"
   ],
   "outputs": [],
   "metadata": {}
  },
  {
   "cell_type": "markdown",
   "source": [
    "First we need to use the `Client` function from pystac_client. Client takes two arguments `self` and `url`. We can pass in a url that we know and assign it to `url`. The other option is to set an environment variable with the url we want to access by default and Client will automatically know to use the environment variable. \n",
    "\n",
    "Below we are using the `inspect` library to view the arguments Client accepts. You can usually also find this information in documentation for a specific package."
   ],
   "metadata": {}
  },
  {
   "cell_type": "code",
   "execution_count": 2,
   "source": [
    "# Import \n",
    "from pystac_client import Client\n",
    "#import the inspect library\n",
    "import inspect\n",
    "\n",
    "#Inspect the Client function's arguments \n",
    "inspect.getfullargspec(Client).args\n"
   ],
   "outputs": [
    {
     "output_type": "execute_result",
     "data": {
      "text/plain": [
       "['self',\n",
       " 'id',\n",
       " 'description',\n",
       " 'title',\n",
       " 'stac_extensions',\n",
       " 'extra_fields',\n",
       " 'href',\n",
       " 'catalog_type']"
      ]
     },
     "metadata": {},
     "execution_count": 2
    }
   ],
   "metadata": {}
  },
  {
   "cell_type": "markdown",
   "source": [
    "Here we can see the `Client` function references `self`,\n",
    " 'id',\n",
    " 'description',\n",
    " 'title',\n",
    " 'stac_extensions',\n",
    " 'extra_fields',\n",
    " 'href',\n",
    " 'catalog_type'\n",
    "\n",
    "We are going to use the url: `'https://earth-search.aws.element84.com/v0` which contains Sentinel data. There are a lot of ways to structure your query for the search. Below are a few different options for searching.  You can search for imagery that is within a specific bounding box, between dates, specific cloud coverage and many other attributes.\n",
    "\n",
    "These fields include:\n",
    "\n",
    "**bbox**: bounding box of the form [minlon, minlat, maxlon, maxlat]\n",
    "\n",
    "**intersects**: A GeoJSON geometry\n",
    "\n",
    "**time:** A single date-time, a period string, or a range (seperated by /)\n",
    "\n",
    "**sort:** A dictionary of fields to sort along with ascending/descending\n",
    "\n",
    "**query**: Dictionary of properties to query on, supports eq, lt, gt, lte, gte\n",
    "\n",
    "\n"
   ],
   "metadata": {}
  },
  {
   "cell_type": "markdown",
   "source": [
    "To use the Python library, first a `Client` instance is created for a specific STAC API (use the root URL)\n",
    "\n"
   ],
   "metadata": {}
  },
  {
   "cell_type": "code",
   "execution_count": 3,
   "source": [
    "from pystac_client import Client\n",
    "#catalog or api?\n",
    "catalog = Client.open(\"https://earth-search.aws.element84.com/v0\")\n"
   ],
   "outputs": [],
   "metadata": {}
  },
  {
   "cell_type": "code",
   "execution_count": 4,
   "source": [
    "child_links = catalog.get_links('child')\n",
    "print(child_links)\n",
    "len(child_links)"
   ],
   "outputs": [
    {
     "output_type": "stream",
     "name": "stdout",
     "text": [
      "[<Link rel=child target=https://earth-search.aws.element84.com/v0/collections/sentinel-s2-l2a>, <Link rel=child target=https://earth-search.aws.element84.com/v0/collections/sentinel-s2-l1c>, <Link rel=child target=https://earth-search.aws.element84.com/v0/collections/sentinel-s2-l2a-cogs>, <Link rel=child target=https://earth-search.aws.element84.com/v0/collections/landsat-8-l1-c1>]\n"
     ]
    },
    {
     "output_type": "execute_result",
     "data": {
      "text/plain": [
       "4"
      ]
     },
     "metadata": {},
     "execution_count": 4
    }
   ],
   "metadata": {}
  },
  {
   "cell_type": "markdown",
   "source": [
    "This Catalog contains STAC Collections. Here we list the collection IDs and titles that are available:"
   ],
   "metadata": {}
  },
  {
   "cell_type": "code",
   "execution_count": 26,
   "source": [
    "collections = catalog.get_children()\n",
    "for collection in collections:\n",
    "    print(f\"{collection.id} - {collection.title}\")"
   ],
   "outputs": [
    {
     "output_type": "stream",
     "name": "stdout",
     "text": [
      "sentinel-s2-l2a - Sentinel 2 L2A\n",
      "sentinel-s2-l1c - Sentinel 2 L1C\n",
      "sentinel-s2-l2a-cogs - Sentinel 2 L2A COGs\n",
      "landsat-8-l1-c1 - Landsat-8 L1 Collection-1\n"
     ]
    }
   ],
   "metadata": {}
  },
  {
   "cell_type": "markdown",
   "source": [
    "To get a single catalog link :"
   ],
   "metadata": {}
  },
  {
   "cell_type": "code",
   "execution_count": 5,
   "source": [
    "first_child_link = catalog.get_single_link('child')\n",
    "first_child_link"
   ],
   "outputs": [
    {
     "output_type": "execute_result",
     "data": {
      "text/plain": [
       "<Link rel=child target=https://earth-search.aws.element84.com/v0/collections/sentinel-s2-l2a>"
      ]
     },
     "metadata": {},
     "execution_count": 5
    }
   ],
   "metadata": {}
  },
  {
   "cell_type": "markdown",
   "source": [
    "To search a specific catalog for our study area, defined by a bbox - we can return how many items are found that match our search"
   ],
   "metadata": {}
  },
  {
   "cell_type": "code",
   "execution_count": 6,
   "source": [
    "mysearch = catalog.search(collections=['sentinel-s2-l2a-cogs'], bbox=[-72.5,40.5,-72,41], max_items=10)\n",
    "print(f\"{mysearch.matched()} items found\")"
   ],
   "outputs": [
    {
     "output_type": "stream",
     "name": "stdout",
     "text": [
      "2254 items found\n"
     ]
    }
   ],
   "metadata": {}
  },
  {
   "cell_type": "code",
   "execution_count": 7,
   "source": [
    "for item in mysearch.get_items():\n",
    "    print(item.id)\n",
    "\n"
   ],
   "outputs": [
    {
     "output_type": "stream",
     "name": "stdout",
     "text": [
      "S2A_19TBE_20210919_0_L2A\n",
      "S2A_18TYK_20210919_0_L2A\n",
      "S2A_18TYL_20210919_0_L2A\n",
      "S2A_19TBF_20210919_0_L2A\n",
      "S2A_18TYK_20210916_0_L2A\n",
      "S2A_19TBE_20210916_0_L2A\n",
      "S2A_18TYL_20210916_0_L2A\n",
      "S2A_19TBF_20210916_0_L2A\n",
      "S2B_18TYK_20210914_0_L2A\n",
      "S2B_19TBE_20210914_0_L2A\n"
     ]
    }
   ],
   "metadata": {}
  },
  {
   "cell_type": "markdown",
   "source": [
    "You can save the results of your search as a json file"
   ],
   "metadata": {}
  },
  {
   "cell_type": "code",
   "execution_count": 8,
   "source": [
    "items = mysearch.get_all_items()\n",
    "#items.save('items.json')"
   ],
   "outputs": [],
   "metadata": {}
  },
  {
   "cell_type": "markdown",
   "source": [
    "We can also check out the id of the item and the date time for a particular item. Here we are using `items` to store the results from our search as a **list**."
   ],
   "metadata": {}
  },
  {
   "cell_type": "code",
   "execution_count": 40,
   "source": [
    "items = list(mysearch.get_items())\n",
    "for item in items:\n",
    "    print(f\"{item.id}: {item.datetime}\")"
   ],
   "outputs": [
    {
     "output_type": "stream",
     "name": "stdout",
     "text": [
      "S2A_19TBE_20210919_0_L2A: 2021-09-19 15:52:00+00:00\n",
      "S2A_18TYK_20210919_0_L2A: 2021-09-19 15:52:00+00:00\n",
      "S2A_18TYL_20210919_0_L2A: 2021-09-19 15:51:46+00:00\n",
      "S2A_19TBF_20210919_0_L2A: 2021-09-19 15:51:46+00:00\n",
      "S2A_18TYK_20210916_0_L2A: 2021-09-16 15:42:01+00:00\n",
      "S2A_19TBE_20210916_0_L2A: 2021-09-16 15:42:00+00:00\n",
      "S2A_18TYL_20210916_0_L2A: 2021-09-16 15:41:49+00:00\n",
      "S2A_19TBF_20210916_0_L2A: 2021-09-16 15:41:49+00:00\n",
      "S2B_18TYK_20210914_0_L2A: 2021-09-14 15:51:54+00:00\n",
      "S2B_19TBE_20210914_0_L2A: 2021-09-14 15:51:54+00:00\n"
     ]
    }
   ],
   "metadata": {}
  },
  {
   "cell_type": "markdown",
   "source": [
    "We can use the eo property of our items to list the cloud cover for our study area."
   ],
   "metadata": {}
  },
  {
   "cell_type": "code",
   "execution_count": 46,
   "source": [
    "for item in items:\n",
    "    print(f\"{item.id}: {item.properties['eo:cloud_cover']}\")"
   ],
   "outputs": [
    {
     "output_type": "stream",
     "name": "stdout",
     "text": [
      "S2A_19TBE_20210919_0_L2A: 8.39\n",
      "S2A_18TYK_20210919_0_L2A: 9.81\n",
      "S2A_18TYL_20210919_0_L2A: 0\n",
      "S2A_19TBF_20210919_0_L2A: 0\n",
      "S2A_18TYK_20210916_0_L2A: 99.8\n",
      "S2A_19TBE_20210916_0_L2A: 99.7\n",
      "S2A_18TYL_20210916_0_L2A: 96.81\n",
      "S2A_19TBF_20210916_0_L2A: 96.51\n",
      "S2B_18TYK_20210914_0_L2A: 44.54\n",
      "S2B_19TBE_20210914_0_L2A: 41.71\n"
     ]
    }
   ],
   "metadata": {}
  },
  {
   "cell_type": "markdown",
   "source": [
    "We’ll grab an item with low cloudiness:"
   ],
   "metadata": {}
  },
  {
   "cell_type": "code",
   "execution_count": 44,
   "source": [
    "selected_item = sorted(items, key=lambda item: item.properties[\"eo:cloud_cover\"])[0]\n",
    "\n"
   ],
   "outputs": [
    {
     "output_type": "execute_result",
     "data": {
      "text/plain": [
       "<Item id=S2A_18TYL_20210919_0_L2A>"
      ]
     },
     "metadata": {},
     "execution_count": 44
    }
   ],
   "metadata": {}
  },
  {
   "cell_type": "markdown",
   "source": [
    "We can further dig down into our selected item to view what **assets** are available. "
   ],
   "metadata": {}
  },
  {
   "cell_type": "code",
   "execution_count": 55,
   "source": [
    "selected_item.assets\n"
   ],
   "outputs": [
    {
     "output_type": "execute_result",
     "data": {
      "text/plain": [
       "{'thumbnail': <Asset href=https://roda.sentinel-hub.com/sentinel-s2-l1c/tiles/18/T/YL/2021/9/19/0/preview.jpg>,\n",
       " 'overview': <Asset href=https://sentinel-cogs.s3.us-west-2.amazonaws.com/sentinel-s2-l2a-cogs/18/T/YL/2021/9/S2A_18TYL_20210919_0_L2A/L2A_PVI.tif>,\n",
       " 'info': <Asset href=https://roda.sentinel-hub.com/sentinel-s2-l2a/tiles/18/T/YL/2021/9/19/0/tileInfo.json>,\n",
       " 'metadata': <Asset href=https://roda.sentinel-hub.com/sentinel-s2-l2a/tiles/18/T/YL/2021/9/19/0/metadata.xml>,\n",
       " 'visual': <Asset href=https://sentinel-cogs.s3.us-west-2.amazonaws.com/sentinel-s2-l2a-cogs/18/T/YL/2021/9/S2A_18TYL_20210919_0_L2A/TCI.tif>,\n",
       " 'B01': <Asset href=https://sentinel-cogs.s3.us-west-2.amazonaws.com/sentinel-s2-l2a-cogs/18/T/YL/2021/9/S2A_18TYL_20210919_0_L2A/B01.tif>,\n",
       " 'B02': <Asset href=https://sentinel-cogs.s3.us-west-2.amazonaws.com/sentinel-s2-l2a-cogs/18/T/YL/2021/9/S2A_18TYL_20210919_0_L2A/B02.tif>,\n",
       " 'B03': <Asset href=https://sentinel-cogs.s3.us-west-2.amazonaws.com/sentinel-s2-l2a-cogs/18/T/YL/2021/9/S2A_18TYL_20210919_0_L2A/B03.tif>,\n",
       " 'B04': <Asset href=https://sentinel-cogs.s3.us-west-2.amazonaws.com/sentinel-s2-l2a-cogs/18/T/YL/2021/9/S2A_18TYL_20210919_0_L2A/B04.tif>,\n",
       " 'B05': <Asset href=https://sentinel-cogs.s3.us-west-2.amazonaws.com/sentinel-s2-l2a-cogs/18/T/YL/2021/9/S2A_18TYL_20210919_0_L2A/B05.tif>,\n",
       " 'B06': <Asset href=https://sentinel-cogs.s3.us-west-2.amazonaws.com/sentinel-s2-l2a-cogs/18/T/YL/2021/9/S2A_18TYL_20210919_0_L2A/B06.tif>,\n",
       " 'B07': <Asset href=https://sentinel-cogs.s3.us-west-2.amazonaws.com/sentinel-s2-l2a-cogs/18/T/YL/2021/9/S2A_18TYL_20210919_0_L2A/B07.tif>,\n",
       " 'B08': <Asset href=https://sentinel-cogs.s3.us-west-2.amazonaws.com/sentinel-s2-l2a-cogs/18/T/YL/2021/9/S2A_18TYL_20210919_0_L2A/B08.tif>,\n",
       " 'B8A': <Asset href=https://sentinel-cogs.s3.us-west-2.amazonaws.com/sentinel-s2-l2a-cogs/18/T/YL/2021/9/S2A_18TYL_20210919_0_L2A/B8A.tif>,\n",
       " 'B09': <Asset href=https://sentinel-cogs.s3.us-west-2.amazonaws.com/sentinel-s2-l2a-cogs/18/T/YL/2021/9/S2A_18TYL_20210919_0_L2A/B09.tif>,\n",
       " 'B11': <Asset href=https://sentinel-cogs.s3.us-west-2.amazonaws.com/sentinel-s2-l2a-cogs/18/T/YL/2021/9/S2A_18TYL_20210919_0_L2A/B11.tif>,\n",
       " 'B12': <Asset href=https://sentinel-cogs.s3.us-west-2.amazonaws.com/sentinel-s2-l2a-cogs/18/T/YL/2021/9/S2A_18TYL_20210919_0_L2A/B12.tif>,\n",
       " 'AOT': <Asset href=https://sentinel-cogs.s3.us-west-2.amazonaws.com/sentinel-s2-l2a-cogs/18/T/YL/2021/9/S2A_18TYL_20210919_0_L2A/AOT.tif>,\n",
       " 'WVP': <Asset href=https://sentinel-cogs.s3.us-west-2.amazonaws.com/sentinel-s2-l2a-cogs/18/T/YL/2021/9/S2A_18TYL_20210919_0_L2A/WVP.tif>,\n",
       " 'SCL': <Asset href=https://sentinel-cogs.s3.us-west-2.amazonaws.com/sentinel-s2-l2a-cogs/18/T/YL/2021/9/S2A_18TYL_20210919_0_L2A/SCL.tif>}"
      ]
     },
     "metadata": {},
     "execution_count": 55
    }
   ],
   "metadata": {}
  },
  {
   "cell_type": "markdown",
   "source": [
    "The above returns a dictionary. We can see that for a given key, there is a link to the asset to download. These links are similar to the links you would find on a ftp portal or attached as a zip file. In some cases, the links here may not be able to be used directly. Depending on the collection, you may need a token to access and download data.\n",
    "\n",
    "Shown another way:"
   ],
   "metadata": {}
  },
  {
   "cell_type": "code",
   "execution_count": 47,
   "source": [
    "for asset_key, asset in selected_item.assets.items():\n",
    "    print(f\"{asset_key:<25} - {asset.title}\")"
   ],
   "outputs": [
    {
     "output_type": "stream",
     "name": "stdout",
     "text": [
      "thumbnail                 - Thumbnail\n",
      "overview                  - True color image\n",
      "info                      - Original JSON metadata\n",
      "metadata                  - Original XML metadata\n",
      "visual                    - True color image\n",
      "B01                       - Band 1 (coastal)\n",
      "B02                       - Band 2 (blue)\n",
      "B03                       - Band 3 (green)\n",
      "B04                       - Band 4 (red)\n",
      "B05                       - Band 5\n",
      "B06                       - Band 6\n",
      "B07                       - Band 7\n",
      "B08                       - Band 8 (nir)\n",
      "B8A                       - Band 8A\n",
      "B09                       - Band 9\n",
      "B11                       - Band 11 (swir16)\n",
      "B12                       - Band 12 (swir22)\n",
      "AOT                       - Aerosol Optical Thickness (AOT)\n",
      "WVP                       - Water Vapour (WVP)\n",
      "SCL                       - Scene Classification Map (SCL)\n"
     ]
    }
   ],
   "metadata": {}
  },
  {
   "cell_type": "markdown",
   "source": [
    "Typically, the next step after finding imagery that fits within your bounding box and meets a certain criteria, is downloading that data.\n",
    "In Python, the `requests` library is used to access urls and download them."
   ],
   "metadata": {}
  },
  {
   "cell_type": "code",
   "execution_count": 57,
   "source": [
    "selected_item.assets[\"B03\"].href"
   ],
   "outputs": [
    {
     "output_type": "execute_result",
     "data": {
      "text/plain": [
       "'https://sentinel-cogs.s3.us-west-2.amazonaws.com/sentinel-s2-l2a-cogs/18/T/YL/2021/9/S2A_18TYL_20210919_0_L2A/B03.tif'"
      ]
     },
     "metadata": {},
     "execution_count": 57
    }
   ],
   "metadata": {}
  },
  {
   "cell_type": "markdown",
   "source": [
    "## Getting Assets"
   ],
   "metadata": {}
  },
  {
   "cell_type": "code",
   "execution_count": 72,
   "source": [
    "item.get_self_href()"
   ],
   "outputs": [
    {
     "output_type": "execute_result",
     "data": {
      "text/plain": [
       "'https://earth-search.aws.element84.com/v0/collections/sentinel-s2-l2a-cogs/items/S2B_19TBE_20210914_0_L2A'"
      ]
     },
     "metadata": {},
     "execution_count": 72
    }
   ],
   "metadata": {}
  },
  {
   "cell_type": "code",
   "execution_count": 73,
   "source": [
    "item.get_assets()"
   ],
   "outputs": [
    {
     "output_type": "execute_result",
     "data": {
      "text/plain": [
       "{'thumbnail': <Asset href=https://roda.sentinel-hub.com/sentinel-s2-l1c/tiles/19/T/BE/2021/9/14/0/preview.jpg>,\n",
       " 'overview': <Asset href=https://sentinel-cogs.s3.us-west-2.amazonaws.com/sentinel-s2-l2a-cogs/19/T/BE/2021/9/S2B_19TBE_20210914_0_L2A/L2A_PVI.tif>,\n",
       " 'info': <Asset href=https://roda.sentinel-hub.com/sentinel-s2-l2a/tiles/19/T/BE/2021/9/14/0/tileInfo.json>,\n",
       " 'metadata': <Asset href=https://roda.sentinel-hub.com/sentinel-s2-l2a/tiles/19/T/BE/2021/9/14/0/metadata.xml>,\n",
       " 'visual': <Asset href=https://sentinel-cogs.s3.us-west-2.amazonaws.com/sentinel-s2-l2a-cogs/19/T/BE/2021/9/S2B_19TBE_20210914_0_L2A/TCI.tif>,\n",
       " 'B01': <Asset href=https://sentinel-cogs.s3.us-west-2.amazonaws.com/sentinel-s2-l2a-cogs/19/T/BE/2021/9/S2B_19TBE_20210914_0_L2A/B01.tif>,\n",
       " 'B02': <Asset href=https://sentinel-cogs.s3.us-west-2.amazonaws.com/sentinel-s2-l2a-cogs/19/T/BE/2021/9/S2B_19TBE_20210914_0_L2A/B02.tif>,\n",
       " 'B03': <Asset href=https://sentinel-cogs.s3.us-west-2.amazonaws.com/sentinel-s2-l2a-cogs/19/T/BE/2021/9/S2B_19TBE_20210914_0_L2A/B03.tif>,\n",
       " 'B04': <Asset href=https://sentinel-cogs.s3.us-west-2.amazonaws.com/sentinel-s2-l2a-cogs/19/T/BE/2021/9/S2B_19TBE_20210914_0_L2A/B04.tif>,\n",
       " 'B05': <Asset href=https://sentinel-cogs.s3.us-west-2.amazonaws.com/sentinel-s2-l2a-cogs/19/T/BE/2021/9/S2B_19TBE_20210914_0_L2A/B05.tif>,\n",
       " 'B06': <Asset href=https://sentinel-cogs.s3.us-west-2.amazonaws.com/sentinel-s2-l2a-cogs/19/T/BE/2021/9/S2B_19TBE_20210914_0_L2A/B06.tif>,\n",
       " 'B07': <Asset href=https://sentinel-cogs.s3.us-west-2.amazonaws.com/sentinel-s2-l2a-cogs/19/T/BE/2021/9/S2B_19TBE_20210914_0_L2A/B07.tif>,\n",
       " 'B08': <Asset href=https://sentinel-cogs.s3.us-west-2.amazonaws.com/sentinel-s2-l2a-cogs/19/T/BE/2021/9/S2B_19TBE_20210914_0_L2A/B08.tif>,\n",
       " 'B8A': <Asset href=https://sentinel-cogs.s3.us-west-2.amazonaws.com/sentinel-s2-l2a-cogs/19/T/BE/2021/9/S2B_19TBE_20210914_0_L2A/B8A.tif>,\n",
       " 'B09': <Asset href=https://sentinel-cogs.s3.us-west-2.amazonaws.com/sentinel-s2-l2a-cogs/19/T/BE/2021/9/S2B_19TBE_20210914_0_L2A/B09.tif>,\n",
       " 'B11': <Asset href=https://sentinel-cogs.s3.us-west-2.amazonaws.com/sentinel-s2-l2a-cogs/19/T/BE/2021/9/S2B_19TBE_20210914_0_L2A/B11.tif>,\n",
       " 'B12': <Asset href=https://sentinel-cogs.s3.us-west-2.amazonaws.com/sentinel-s2-l2a-cogs/19/T/BE/2021/9/S2B_19TBE_20210914_0_L2A/B12.tif>,\n",
       " 'AOT': <Asset href=https://sentinel-cogs.s3.us-west-2.amazonaws.com/sentinel-s2-l2a-cogs/19/T/BE/2021/9/S2B_19TBE_20210914_0_L2A/AOT.tif>,\n",
       " 'WVP': <Asset href=https://sentinel-cogs.s3.us-west-2.amazonaws.com/sentinel-s2-l2a-cogs/19/T/BE/2021/9/S2B_19TBE_20210914_0_L2A/WVP.tif>,\n",
       " 'SCL': <Asset href=https://sentinel-cogs.s3.us-west-2.amazonaws.com/sentinel-s2-l2a-cogs/19/T/BE/2021/9/S2B_19TBE_20210914_0_L2A/SCL.tif>}"
      ]
     },
     "metadata": {},
     "execution_count": 73
    }
   ],
   "metadata": {}
  },
  {
   "cell_type": "code",
   "execution_count": 76,
   "source": [
    "# get all keys from all items\n",
    "keys = set([k for i in items for k in i.assets])\n",
    "keys\n",
    "#for key in keys:\n",
    " #   items.download(key=key)"
   ],
   "outputs": [
    {
     "output_type": "execute_result",
     "data": {
      "text/plain": [
       "{'AOT',\n",
       " 'B01',\n",
       " 'B02',\n",
       " 'B03',\n",
       " 'B04',\n",
       " 'B05',\n",
       " 'B06',\n",
       " 'B07',\n",
       " 'B08',\n",
       " 'B09',\n",
       " 'B11',\n",
       " 'B12',\n",
       " 'B8A',\n",
       " 'SCL',\n",
       " 'WVP',\n",
       " 'info',\n",
       " 'metadata',\n",
       " 'overview',\n",
       " 'thumbnail',\n",
       " 'visual'}"
      ]
     },
     "metadata": {},
     "execution_count": 76
    }
   ],
   "metadata": {}
  },
  {
   "cell_type": "code",
   "execution_count": 77,
   "source": [
    "# Create empty list\n",
    "download_urls = []\n",
    "\n",
    "# for each item within our item list get the values of the assets\n",
    "\n",
    "for x in item.assets.values():\n",
    "    #save url to list\n",
    "    download_urls.append(x['href'])\n",
    "    # print the urls\n",
    "    print(x['href'])"
   ],
   "outputs": [
    {
     "output_type": "error",
     "ename": "TypeError",
     "evalue": "'Asset' object is not subscriptable",
     "traceback": [
      "\u001b[0;31m---------------------------------------------------------------------------\u001b[0m",
      "\u001b[0;31mTypeError\u001b[0m                                 Traceback (most recent call last)",
      "\u001b[0;32m<ipython-input-77-fb971e7286c4>\u001b[0m in \u001b[0;36m<module>\u001b[0;34m\u001b[0m\n\u001b[1;32m      6\u001b[0m \u001b[0;32mfor\u001b[0m \u001b[0mx\u001b[0m \u001b[0;32min\u001b[0m \u001b[0mitem\u001b[0m\u001b[0;34m.\u001b[0m\u001b[0massets\u001b[0m\u001b[0;34m.\u001b[0m\u001b[0mvalues\u001b[0m\u001b[0;34m(\u001b[0m\u001b[0;34m)\u001b[0m\u001b[0;34m:\u001b[0m\u001b[0;34m\u001b[0m\u001b[0;34m\u001b[0m\u001b[0m\n\u001b[1;32m      7\u001b[0m     \u001b[0;31m#save url to list\u001b[0m\u001b[0;34m\u001b[0m\u001b[0;34m\u001b[0m\u001b[0;34m\u001b[0m\u001b[0m\n\u001b[0;32m----> 8\u001b[0;31m     \u001b[0mdownload_urls\u001b[0m\u001b[0;34m.\u001b[0m\u001b[0mappend\u001b[0m\u001b[0;34m(\u001b[0m\u001b[0mx\u001b[0m\u001b[0;34m[\u001b[0m\u001b[0;34m'href'\u001b[0m\u001b[0;34m]\u001b[0m\u001b[0;34m)\u001b[0m\u001b[0;34m\u001b[0m\u001b[0;34m\u001b[0m\u001b[0m\n\u001b[0m\u001b[1;32m      9\u001b[0m     \u001b[0;31m# print the urls\u001b[0m\u001b[0;34m\u001b[0m\u001b[0;34m\u001b[0m\u001b[0;34m\u001b[0m\u001b[0m\n\u001b[1;32m     10\u001b[0m     \u001b[0mprint\u001b[0m\u001b[0;34m(\u001b[0m\u001b[0mx\u001b[0m\u001b[0;34m[\u001b[0m\u001b[0;34m'href'\u001b[0m\u001b[0;34m]\u001b[0m\u001b[0;34m)\u001b[0m\u001b[0;34m\u001b[0m\u001b[0;34m\u001b[0m\u001b[0m\n",
      "\u001b[0;31mTypeError\u001b[0m: 'Asset' object is not subscriptable"
     ]
    }
   ],
   "metadata": {}
  },
  {
   "cell_type": "markdown",
   "source": [
    "## Downloading the list of images\n",
    "\n",
    "Let's say that you want to download all the images you have found to your local hard drive. We can take the list from above and create a for loop to download from the list.\n",
    "If we want to work locally, load these images into QGIS we can."
   ],
   "metadata": {}
  },
  {
   "cell_type": "code",
   "execution_count": 11,
   "source": [
    "import os\n",
    "import urllib\n",
    "\n",
    "def get_filename(url):\n",
    "    \"\"\"\n",
    "    Parses filename from given url\n",
    "    \"\"\"\n",
    "    if url.find('/'):\n",
    "        return url.rsplit('/', 1)[1]\n",
    "\n",
    "# Filepath to save to\n",
    "outdir = \"/Users/laurenyee/Desktop/Projects/STAC/stac-tutorial\"\n",
    "\n",
    "# Create folder if it does no exist\n",
    "if not os.path.exists(outdir):\n",
    "    os.makedirs(outdir)\n",
    "\n",
    "# Download files\n",
    "for url in download_urls:\n",
    "    # Parse filename\n",
    "    fname = get_filename(url)\n",
    "    outfp = os.path.join(outdir, fname)\n",
    "    # Download the file if it does not exist already\n",
    "    if not os.path.exists(outfp):\n",
    "        print(\"Downloading\", fname)\n",
    "        r = urllib.request.urlretrieve(url, outfp)"
   ],
   "outputs": [
    {
     "output_type": "stream",
     "name": "stdout",
     "text": [
      "Downloading preview.jpg\n",
      "Downloading L2A_PVI.jp2\n"
     ]
    },
    {
     "output_type": "error",
     "ename": "URLError",
     "evalue": "<urlopen error unknown url type: s3>",
     "traceback": [
      "\u001b[0;31m---------------------------------------------------------------------------\u001b[0m",
      "\u001b[0;31mURLError\u001b[0m                                  Traceback (most recent call last)",
      "\u001b[0;32m<ipython-input-11-b3346fbe9a24>\u001b[0m in \u001b[0;36m<module>\u001b[0;34m\u001b[0m\n\u001b[1;32m     24\u001b[0m     \u001b[0;32mif\u001b[0m \u001b[0;32mnot\u001b[0m \u001b[0mos\u001b[0m\u001b[0;34m.\u001b[0m\u001b[0mpath\u001b[0m\u001b[0;34m.\u001b[0m\u001b[0mexists\u001b[0m\u001b[0;34m(\u001b[0m\u001b[0moutfp\u001b[0m\u001b[0;34m)\u001b[0m\u001b[0;34m:\u001b[0m\u001b[0;34m\u001b[0m\u001b[0;34m\u001b[0m\u001b[0m\n\u001b[1;32m     25\u001b[0m         \u001b[0mprint\u001b[0m\u001b[0;34m(\u001b[0m\u001b[0;34m\"Downloading\"\u001b[0m\u001b[0;34m,\u001b[0m \u001b[0mfname\u001b[0m\u001b[0;34m)\u001b[0m\u001b[0;34m\u001b[0m\u001b[0;34m\u001b[0m\u001b[0m\n\u001b[0;32m---> 26\u001b[0;31m         \u001b[0mr\u001b[0m \u001b[0;34m=\u001b[0m \u001b[0murllib\u001b[0m\u001b[0;34m.\u001b[0m\u001b[0mrequest\u001b[0m\u001b[0;34m.\u001b[0m\u001b[0murlretrieve\u001b[0m\u001b[0;34m(\u001b[0m\u001b[0murl\u001b[0m\u001b[0;34m,\u001b[0m \u001b[0moutfp\u001b[0m\u001b[0;34m)\u001b[0m\u001b[0;34m\u001b[0m\u001b[0;34m\u001b[0m\u001b[0m\n\u001b[0m",
      "\u001b[0;32m/opt/anaconda3/lib/python3.8/urllib/request.py\u001b[0m in \u001b[0;36murlretrieve\u001b[0;34m(url, filename, reporthook, data)\u001b[0m\n\u001b[1;32m    245\u001b[0m     \u001b[0murl_type\u001b[0m\u001b[0;34m,\u001b[0m \u001b[0mpath\u001b[0m \u001b[0;34m=\u001b[0m \u001b[0m_splittype\u001b[0m\u001b[0;34m(\u001b[0m\u001b[0murl\u001b[0m\u001b[0;34m)\u001b[0m\u001b[0;34m\u001b[0m\u001b[0;34m\u001b[0m\u001b[0m\n\u001b[1;32m    246\u001b[0m \u001b[0;34m\u001b[0m\u001b[0m\n\u001b[0;32m--> 247\u001b[0;31m     \u001b[0;32mwith\u001b[0m \u001b[0mcontextlib\u001b[0m\u001b[0;34m.\u001b[0m\u001b[0mclosing\u001b[0m\u001b[0;34m(\u001b[0m\u001b[0murlopen\u001b[0m\u001b[0;34m(\u001b[0m\u001b[0murl\u001b[0m\u001b[0;34m,\u001b[0m \u001b[0mdata\u001b[0m\u001b[0;34m)\u001b[0m\u001b[0;34m)\u001b[0m \u001b[0;32mas\u001b[0m \u001b[0mfp\u001b[0m\u001b[0;34m:\u001b[0m\u001b[0;34m\u001b[0m\u001b[0;34m\u001b[0m\u001b[0m\n\u001b[0m\u001b[1;32m    248\u001b[0m         \u001b[0mheaders\u001b[0m \u001b[0;34m=\u001b[0m \u001b[0mfp\u001b[0m\u001b[0;34m.\u001b[0m\u001b[0minfo\u001b[0m\u001b[0;34m(\u001b[0m\u001b[0;34m)\u001b[0m\u001b[0;34m\u001b[0m\u001b[0;34m\u001b[0m\u001b[0m\n\u001b[1;32m    249\u001b[0m \u001b[0;34m\u001b[0m\u001b[0m\n",
      "\u001b[0;32m/opt/anaconda3/lib/python3.8/urllib/request.py\u001b[0m in \u001b[0;36murlopen\u001b[0;34m(url, data, timeout, cafile, capath, cadefault, context)\u001b[0m\n\u001b[1;32m    220\u001b[0m     \u001b[0;32melse\u001b[0m\u001b[0;34m:\u001b[0m\u001b[0;34m\u001b[0m\u001b[0;34m\u001b[0m\u001b[0m\n\u001b[1;32m    221\u001b[0m         \u001b[0mopener\u001b[0m \u001b[0;34m=\u001b[0m \u001b[0m_opener\u001b[0m\u001b[0;34m\u001b[0m\u001b[0;34m\u001b[0m\u001b[0m\n\u001b[0;32m--> 222\u001b[0;31m     \u001b[0;32mreturn\u001b[0m \u001b[0mopener\u001b[0m\u001b[0;34m.\u001b[0m\u001b[0mopen\u001b[0m\u001b[0;34m(\u001b[0m\u001b[0murl\u001b[0m\u001b[0;34m,\u001b[0m \u001b[0mdata\u001b[0m\u001b[0;34m,\u001b[0m \u001b[0mtimeout\u001b[0m\u001b[0;34m)\u001b[0m\u001b[0;34m\u001b[0m\u001b[0;34m\u001b[0m\u001b[0m\n\u001b[0m\u001b[1;32m    223\u001b[0m \u001b[0;34m\u001b[0m\u001b[0m\n\u001b[1;32m    224\u001b[0m \u001b[0;32mdef\u001b[0m \u001b[0minstall_opener\u001b[0m\u001b[0;34m(\u001b[0m\u001b[0mopener\u001b[0m\u001b[0;34m)\u001b[0m\u001b[0;34m:\u001b[0m\u001b[0;34m\u001b[0m\u001b[0;34m\u001b[0m\u001b[0m\n",
      "\u001b[0;32m/opt/anaconda3/lib/python3.8/urllib/request.py\u001b[0m in \u001b[0;36mopen\u001b[0;34m(self, fullurl, data, timeout)\u001b[0m\n\u001b[1;32m    523\u001b[0m \u001b[0;34m\u001b[0m\u001b[0m\n\u001b[1;32m    524\u001b[0m         \u001b[0msys\u001b[0m\u001b[0;34m.\u001b[0m\u001b[0maudit\u001b[0m\u001b[0;34m(\u001b[0m\u001b[0;34m'urllib.Request'\u001b[0m\u001b[0;34m,\u001b[0m \u001b[0mreq\u001b[0m\u001b[0;34m.\u001b[0m\u001b[0mfull_url\u001b[0m\u001b[0;34m,\u001b[0m \u001b[0mreq\u001b[0m\u001b[0;34m.\u001b[0m\u001b[0mdata\u001b[0m\u001b[0;34m,\u001b[0m \u001b[0mreq\u001b[0m\u001b[0;34m.\u001b[0m\u001b[0mheaders\u001b[0m\u001b[0;34m,\u001b[0m \u001b[0mreq\u001b[0m\u001b[0;34m.\u001b[0m\u001b[0mget_method\u001b[0m\u001b[0;34m(\u001b[0m\u001b[0;34m)\u001b[0m\u001b[0;34m)\u001b[0m\u001b[0;34m\u001b[0m\u001b[0;34m\u001b[0m\u001b[0m\n\u001b[0;32m--> 525\u001b[0;31m         \u001b[0mresponse\u001b[0m \u001b[0;34m=\u001b[0m \u001b[0mself\u001b[0m\u001b[0;34m.\u001b[0m\u001b[0m_open\u001b[0m\u001b[0;34m(\u001b[0m\u001b[0mreq\u001b[0m\u001b[0;34m,\u001b[0m \u001b[0mdata\u001b[0m\u001b[0;34m)\u001b[0m\u001b[0;34m\u001b[0m\u001b[0;34m\u001b[0m\u001b[0m\n\u001b[0m\u001b[1;32m    526\u001b[0m \u001b[0;34m\u001b[0m\u001b[0m\n\u001b[1;32m    527\u001b[0m         \u001b[0;31m# post-process response\u001b[0m\u001b[0;34m\u001b[0m\u001b[0;34m\u001b[0m\u001b[0;34m\u001b[0m\u001b[0m\n",
      "\u001b[0;32m/opt/anaconda3/lib/python3.8/urllib/request.py\u001b[0m in \u001b[0;36m_open\u001b[0;34m(self, req, data)\u001b[0m\n\u001b[1;32m    545\u001b[0m             \u001b[0;32mreturn\u001b[0m \u001b[0mresult\u001b[0m\u001b[0;34m\u001b[0m\u001b[0;34m\u001b[0m\u001b[0m\n\u001b[1;32m    546\u001b[0m \u001b[0;34m\u001b[0m\u001b[0m\n\u001b[0;32m--> 547\u001b[0;31m         return self._call_chain(self.handle_open, 'unknown',\n\u001b[0m\u001b[1;32m    548\u001b[0m                                 'unknown_open', req)\n\u001b[1;32m    549\u001b[0m \u001b[0;34m\u001b[0m\u001b[0m\n",
      "\u001b[0;32m/opt/anaconda3/lib/python3.8/urllib/request.py\u001b[0m in \u001b[0;36m_call_chain\u001b[0;34m(self, chain, kind, meth_name, *args)\u001b[0m\n\u001b[1;32m    500\u001b[0m         \u001b[0;32mfor\u001b[0m \u001b[0mhandler\u001b[0m \u001b[0;32min\u001b[0m \u001b[0mhandlers\u001b[0m\u001b[0;34m:\u001b[0m\u001b[0;34m\u001b[0m\u001b[0;34m\u001b[0m\u001b[0m\n\u001b[1;32m    501\u001b[0m             \u001b[0mfunc\u001b[0m \u001b[0;34m=\u001b[0m \u001b[0mgetattr\u001b[0m\u001b[0;34m(\u001b[0m\u001b[0mhandler\u001b[0m\u001b[0;34m,\u001b[0m \u001b[0mmeth_name\u001b[0m\u001b[0;34m)\u001b[0m\u001b[0;34m\u001b[0m\u001b[0;34m\u001b[0m\u001b[0m\n\u001b[0;32m--> 502\u001b[0;31m             \u001b[0mresult\u001b[0m \u001b[0;34m=\u001b[0m \u001b[0mfunc\u001b[0m\u001b[0;34m(\u001b[0m\u001b[0;34m*\u001b[0m\u001b[0margs\u001b[0m\u001b[0;34m)\u001b[0m\u001b[0;34m\u001b[0m\u001b[0;34m\u001b[0m\u001b[0m\n\u001b[0m\u001b[1;32m    503\u001b[0m             \u001b[0;32mif\u001b[0m \u001b[0mresult\u001b[0m \u001b[0;32mis\u001b[0m \u001b[0;32mnot\u001b[0m \u001b[0;32mNone\u001b[0m\u001b[0;34m:\u001b[0m\u001b[0;34m\u001b[0m\u001b[0;34m\u001b[0m\u001b[0m\n\u001b[1;32m    504\u001b[0m                 \u001b[0;32mreturn\u001b[0m \u001b[0mresult\u001b[0m\u001b[0;34m\u001b[0m\u001b[0;34m\u001b[0m\u001b[0m\n",
      "\u001b[0;32m/opt/anaconda3/lib/python3.8/urllib/request.py\u001b[0m in \u001b[0;36munknown_open\u001b[0;34m(self, req)\u001b[0m\n\u001b[1;32m   1423\u001b[0m     \u001b[0;32mdef\u001b[0m \u001b[0munknown_open\u001b[0m\u001b[0;34m(\u001b[0m\u001b[0mself\u001b[0m\u001b[0;34m,\u001b[0m \u001b[0mreq\u001b[0m\u001b[0;34m)\u001b[0m\u001b[0;34m:\u001b[0m\u001b[0;34m\u001b[0m\u001b[0;34m\u001b[0m\u001b[0m\n\u001b[1;32m   1424\u001b[0m         \u001b[0mtype\u001b[0m \u001b[0;34m=\u001b[0m \u001b[0mreq\u001b[0m\u001b[0;34m.\u001b[0m\u001b[0mtype\u001b[0m\u001b[0;34m\u001b[0m\u001b[0;34m\u001b[0m\u001b[0m\n\u001b[0;32m-> 1425\u001b[0;31m         \u001b[0;32mraise\u001b[0m \u001b[0mURLError\u001b[0m\u001b[0;34m(\u001b[0m\u001b[0;34m'unknown url type: %s'\u001b[0m \u001b[0;34m%\u001b[0m \u001b[0mtype\u001b[0m\u001b[0;34m)\u001b[0m\u001b[0;34m\u001b[0m\u001b[0;34m\u001b[0m\u001b[0m\n\u001b[0m\u001b[1;32m   1426\u001b[0m \u001b[0;34m\u001b[0m\u001b[0m\n\u001b[1;32m   1427\u001b[0m \u001b[0;32mdef\u001b[0m \u001b[0mparse_keqv_list\u001b[0m\u001b[0;34m(\u001b[0m\u001b[0ml\u001b[0m\u001b[0;34m)\u001b[0m\u001b[0;34m:\u001b[0m\u001b[0;34m\u001b[0m\u001b[0;34m\u001b[0m\u001b[0m\n",
      "\u001b[0;31mURLError\u001b[0m: <urlopen error unknown url type: s3>"
     ]
    }
   ],
   "metadata": {}
  },
  {
   "cell_type": "markdown",
   "source": [
    "## Another Approach \n",
    "\n",
    "Another approach is to use the common name to find the particular asset you want.\n"
   ],
   "metadata": {}
  },
  {
   "cell_type": "code",
   "execution_count": null,
   "source": [
    "for item in items:\n",
    "    print(item)\n",
    "    print(item.properties)\n",
    "    "
   ],
   "outputs": [],
   "metadata": {}
  },
  {
   "cell_type": "code",
   "execution_count": null,
   "source": [
    "item.asset('red')"
   ],
   "outputs": [],
   "metadata": {}
  },
  {
   "cell_type": "code",
   "execution_count": null,
   "source": [
    "for x in item.assets.values():\n",
    "    print(x['href'])\n",
    "\n",
    "example_url = 'https://sentinel-cogs.s3.us-west-2.amazonaws.com/sentinel-s2-l2a-cogs/13/S/ED/2018/2/S2B_13SED_20180201_0_L2A/B03.tif'   "
   ],
   "outputs": [],
   "metadata": {}
  },
  {
   "cell_type": "code",
   "execution_count": null,
   "source": [
    "file_url = item.asset('red')['href']\n",
    "file_url\n",
    "\n"
   ],
   "outputs": [],
   "metadata": {}
  },
  {
   "cell_type": "code",
   "execution_count": null,
   "source": [
    "print(item.datetime)\n",
    "print(item.date)"
   ],
   "outputs": [],
   "metadata": {}
  },
  {
   "cell_type": "code",
   "execution_count": null,
   "source": [
    "for key in item.properties:\n",
    "    print('%s: %s' % (key, item.properties[key]))"
   ],
   "outputs": [],
   "metadata": {}
  },
  {
   "cell_type": "code",
   "execution_count": null,
   "source": [
    "import rasterio\n",
    "import rasterio.plot\n",
    "import pyproj\n",
    "import numpy as np\n",
    "import matplotlib\n",
    "import matplotlib.pyplot as plt\n",
    "\n",
    "with rasterio.open(example_url) as src:\n",
    "    print(src.profile)"
   ],
   "outputs": [],
   "metadata": {}
  },
  {
   "cell_type": "markdown",
   "source": [
    "`rasterio.open()` functions like the python standard library function open for opening files. The block of code within the with `...` as statement is executed once the file is opened, and the file is closed when the context manager exits. This means that we don’t have to manually close the raster file, as the context manager handles that for us.\n",
    "\n",
    "Instead of a local file path, rasterio knows how to read URLs too, so we just passed the link to the file on AWS\n",
    "\n",
    "`src.profile` is a collection of metadata for the file."
   ],
   "metadata": {}
  },
  {
   "cell_type": "code",
   "execution_count": null,
   "source": [
    "# The grid of raster values can be accessed as a numpy array and plotted:\n",
    "with rasterio.open(example_url) as src:\n",
    "   oviews = src.overviews(1) # list of overviews from biggest to smallest\n",
    "   oview = oviews[-1] # let's look at the smallest thumbnail\n",
    "   print('Decimation factor= {}'.format(oview))\n",
    "   # NOTE this is using a 'decimated read' (http://rasterio.readthedocs.io/en/latest/topics/resampling.html)\n",
    "   thumbnail = src.read(1, out_shape=(1, int(src.height // oview), int(src.width // oview)))\n",
    "\n",
    "print('array type: ',type(thumbnail))\n",
    "print(thumbnail)\n",
    "\n",
    "plt.imshow(thumbnail)\n",
    "plt.colorbar()\n",
    "plt.title('Overview - Band 4 {}'.format(thumbnail.shape))\n",
    "plt.xlabel('Column #')\n",
    "plt.ylabel('Row #')"
   ],
   "outputs": [],
   "metadata": {}
  },
  {
   "cell_type": "markdown",
   "source": [
    "Pixels outside the imaged area are clearly set to “0”. The colormap could be improved if we change the out of bounds area to NaN. To do this we have to convert the datatype from uint16 to float32 (so be aware the array with NaNs will take 2x the storage space)"
   ],
   "metadata": {}
  },
  {
   "cell_type": "code",
   "execution_count": null,
   "source": [
    "with rasterio.open(example_url) as src:\n",
    "    oviews = src.overviews(1)\n",
    "    oview = oviews[-1]\n",
    "    print('Decimation factor= {}'.format(oview))\n",
    "    thumbnail = src.read(1, out_shape=(1, int(src.height // oview), int(src.width // oview)))\n",
    "\n",
    "    thumbnail = thumbnail.astype('f4')\n",
    "    thumbnail[thumbnail==0] = np.nan\n",
    "\n",
    "plt.imshow(thumbnail)\n",
    "plt.colorbar()\n",
    "plt.title('Overview - Band 4 {}'.format(thumbnail.shape))\n",
    "plt.xlabel('Column #')\n",
    "plt.ylabel('Row #')"
   ],
   "outputs": [],
   "metadata": {}
  },
  {
   "cell_type": "markdown",
   "source": [
    "### Calculate NDVI\n",
    "\n",
    "NDVI is a simple indicator that can be calculated by obtaining the red and near IR bands of a satellite image. The difference in values between these two sensors can be used to evaluate healthy vegetation or 'greenness'. "
   ],
   "metadata": {}
  },
  {
   "cell_type": "code",
   "execution_count": null,
   "source": [
    "# Create a function called calc_ndvi to calculate NDVI\n",
    "def calc_ndvi(nir,red):\n",
    "    '''Calculate NDVI from integer arrays'''\n",
    "    nir = nir.astype('f4')\n",
    "    red = red.astype('f4')\n",
    "    ndvi = (nir - red) / (nir + red)\n",
    "    return ndvi"
   ],
   "outputs": [],
   "metadata": {}
  },
  {
   "cell_type": "markdown",
   "source": [
    "Let's find the url of the red and NIR bands and assign them to a red and nir variable respectively"
   ],
   "metadata": {}
  },
  {
   "cell_type": "code",
   "execution_count": null,
   "source": [
    "redband = example_url\n",
    "nirband = 'https://sentinel-cogs.s3.us-west-2.amazonaws.com/sentinel-s2-l2a-cogs/13/S/ED/2018/2/S2B_13SED_20180201_0_L2A/B08.tif'\n",
    "\n",
    "\n",
    "with rasterio.open(redband) as src:\n",
    "    profile = src.profile\n",
    "    oviews = src.overviews(1) # list of overviews from biggest to smallest\n",
    "    oview = oviews[1]  # Use second-highest resolution overview\n",
    "    print('Decimation factor= {}'.format(oview))\n",
    "    red = src.read(1, out_shape=(1, int(src.height // oview), int(src.width // oview)))\n",
    "\n",
    "with rasterio.open(nirband) as src:\n",
    "    oviews = src.overviews(1) # list of overviews from biggest to smallest\n",
    "    oview = oviews[1]  # Use second-highest resolution overview\n",
    "    nir = src.read(1, out_shape=(1, int(src.height // oview), int(src.width // oview)))\n",
    "\n"
   ],
   "outputs": [],
   "metadata": {}
  },
  {
   "cell_type": "markdown",
   "source": [
    "Now we can use our function and assign it to `ndvi` and plot the results"
   ],
   "metadata": {}
  },
  {
   "cell_type": "code",
   "execution_count": null,
   "source": [
    "ndvi = calc_ndvi(nir,red)\n",
    "plt.imshow(ndvi, cmap='RdYlGn')\n",
    "plt.colorbar()\n",
    "#plt.title('NDVI {}'.format(date))\n",
    "plt.xlabel('Column #')\n",
    "plt.ylabel('Row #')"
   ],
   "outputs": [],
   "metadata": {}
  },
  {
   "cell_type": "markdown",
   "source": [
    "## Save Result Locally\n",
    "\n",
    "So far we just read in the data into python from a url. If we want to save our results locally we can."
   ],
   "metadata": {}
  },
  {
   "cell_type": "code",
   "execution_count": null,
   "source": [
    "localname = 'NDVI_calc.tif'\n",
    "#open the NIR band and copy the meta data\n",
    "with rasterio.open(nirband) as src:\n",
    "    profile = src.profile.copy()\n",
    "#update the existing meta data\n",
    "    aff = src.transform\n",
    "    newaff = rasterio.Affine(aff.a * oview, aff.b, aff.c,\n",
    "                             aff.d, aff.e * oview, aff.f)\n",
    "    profile.update({\n",
    "            'dtype': 'float32',\n",
    "            'height': ndvi.shape[0],\n",
    "            'width': ndvi.shape[1],\n",
    "            'transform': newaff})  \n",
    "\n",
    "    with rasterio.open(localname, 'w', **profile) as dst:\n",
    "        dst.write_band(1, ndvi)"
   ],
   "outputs": [],
   "metadata": {}
  },
  {
   "cell_type": "markdown",
   "source": [
    "## Resources\n",
    "\n",
    "This tutorial derived content from many different sources such as:\n",
    "\n",
    "http://sat-utils.github.io/sat-api/#tocsbbox\n",
    "\n",
    "https://github.com/sat-utils/sat-search/blob/master/tutorial-1.ipynb\n",
    "\n",
    "https://planetarycomputer.microsoft.com/docs/quickstarts/reading-stac/\n"
   ],
   "metadata": {}
  }
 ],
 "metadata": {
  "interpreter": {
   "hash": "dca0ade3e726a953b501b15e8e990130d2b7799f14cfd9f4271676035ebe5511"
  },
  "kernelspec": {
   "name": "python3",
   "display_name": "Python 3.8.8 64-bit ('base': conda)"
  },
  "language_info": {
   "codemirror_mode": {
    "name": "ipython",
    "version": 3
   },
   "file_extension": ".py",
   "mimetype": "text/x-python",
   "name": "python",
   "nbconvert_exporter": "python",
   "pygments_lexer": "ipython3",
   "version": "3.8.8"
  }
 },
 "nbformat": 4,
 "nbformat_minor": 2
}