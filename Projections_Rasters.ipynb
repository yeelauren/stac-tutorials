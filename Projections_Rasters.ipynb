{
 "cells": [
  {
   "cell_type": "markdown",
   "metadata": {},
   "source": [
    "# Projections\n",
    "\n",
    "- Notebook illustrating how to do projections in python with a few different libraries"
   ]
  },
  {
   "cell_type": "code",
   "execution_count": 1,
   "id": "ce182dae-cada-4a49-888b-8ecef2148d90",
   "metadata": {},
   "outputs": [],
   "source": [
    "import rasterio"
   ]
  },
  {
   "cell_type": "code",
   "execution_count": 2,
   "id": "15e1da59",
   "metadata": {},
   "outputs": [
    {
     "ename": "RasterioIOError",
     "evalue": "../data/raw/S2A_17TPM_20210730_0_L2A_WVP.tif: No such file or directory",
     "output_type": "error",
     "traceback": [
      "\u001b[0;31m---------------------------------------------------------------------------\u001b[0m",
      "\u001b[0;31mCPLE_OpenFailedError\u001b[0m                      Traceback (most recent call last)",
      "File \u001b[0;32mrasterio/_base.pyx:302\u001b[0m, in \u001b[0;36mrasterio._base.DatasetBase.__init__\u001b[0;34m()\u001b[0m\n",
      "File \u001b[0;32mrasterio/_base.pyx:213\u001b[0m, in \u001b[0;36mrasterio._base.open_dataset\u001b[0;34m()\u001b[0m\n",
      "File \u001b[0;32mrasterio/_err.pyx:217\u001b[0m, in \u001b[0;36mrasterio._err.exc_wrap_pointer\u001b[0;34m()\u001b[0m\n",
      "\u001b[0;31mCPLE_OpenFailedError\u001b[0m: ../data/raw/S2A_17TPM_20210730_0_L2A_WVP.tif: No such file or directory",
      "\nDuring handling of the above exception, another exception occurred:\n",
      "\u001b[0;31mRasterioIOError\u001b[0m                           Traceback (most recent call last)",
      "Cell \u001b[0;32mIn [2], line 1\u001b[0m\n\u001b[0;32m----> 1\u001b[0m dataset \u001b[38;5;241m=\u001b[39m \u001b[43mrasterio\u001b[49m\u001b[38;5;241;43m.\u001b[39;49m\u001b[43mopen\u001b[49m\u001b[43m(\u001b[49m\u001b[38;5;124;43m'\u001b[39;49m\u001b[38;5;124;43m../data/raw/S2A_17TPM_20210730_0_L2A_WVP.tif\u001b[39;49m\u001b[38;5;124;43m'\u001b[39;49m\u001b[43m)\u001b[49m\n",
      "File \u001b[0;32m~/miniconda3/envs/pystac-env/lib/python3.10/site-packages/rasterio/env.py:444\u001b[0m, in \u001b[0;36mensure_env_with_credentials.<locals>.wrapper\u001b[0;34m(*args, **kwds)\u001b[0m\n\u001b[1;32m    441\u001b[0m     session \u001b[39m=\u001b[39m DummySession()\n\u001b[1;32m    443\u001b[0m \u001b[39mwith\u001b[39;00m env_ctor(session\u001b[39m=\u001b[39msession):\n\u001b[0;32m--> 444\u001b[0m     \u001b[39mreturn\u001b[39;00m f(\u001b[39m*\u001b[39;49margs, \u001b[39m*\u001b[39;49m\u001b[39m*\u001b[39;49mkwds)\n",
      "File \u001b[0;32m~/miniconda3/envs/pystac-env/lib/python3.10/site-packages/rasterio/__init__.py:304\u001b[0m, in \u001b[0;36mopen\u001b[0;34m(fp, mode, driver, width, height, count, crs, transform, dtype, nodata, sharing, **kwargs)\u001b[0m\n\u001b[1;32m    301\u001b[0m path \u001b[39m=\u001b[39m _parse_path(raw_dataset_path)\n\u001b[1;32m    303\u001b[0m \u001b[39mif\u001b[39;00m mode \u001b[39m==\u001b[39m \u001b[39m\"\u001b[39m\u001b[39mr\u001b[39m\u001b[39m\"\u001b[39m:\n\u001b[0;32m--> 304\u001b[0m     dataset \u001b[39m=\u001b[39m DatasetReader(path, driver\u001b[39m=\u001b[39;49mdriver, sharing\u001b[39m=\u001b[39;49msharing, \u001b[39m*\u001b[39;49m\u001b[39m*\u001b[39;49mkwargs)\n\u001b[1;32m    305\u001b[0m \u001b[39melif\u001b[39;00m mode \u001b[39m==\u001b[39m \u001b[39m\"\u001b[39m\u001b[39mr+\u001b[39m\u001b[39m\"\u001b[39m:\n\u001b[1;32m    306\u001b[0m     dataset \u001b[39m=\u001b[39m get_writer_for_path(path, driver\u001b[39m=\u001b[39mdriver)(\n\u001b[1;32m    307\u001b[0m         path, mode, driver\u001b[39m=\u001b[39mdriver, sharing\u001b[39m=\u001b[39msharing, \u001b[39m*\u001b[39m\u001b[39m*\u001b[39mkwargs\n\u001b[1;32m    308\u001b[0m     )\n",
      "File \u001b[0;32mrasterio/_base.pyx:304\u001b[0m, in \u001b[0;36mrasterio._base.DatasetBase.__init__\u001b[0;34m()\u001b[0m\n",
      "\u001b[0;31mRasterioIOError\u001b[0m: ../data/raw/S2A_17TPM_20210730_0_L2A_WVP.tif: No such file or directory"
     ]
    }
   ],
   "source": [
    "dataset = rasterio.open('../data/raw/S2A_17TPM_20210730_0_L2A_WVP.tif')"
   ]
  },
  {
   "cell_type": "code",
   "execution_count": null,
   "id": "9d3444ca",
   "metadata": {},
   "outputs": [
    {
     "data": {
      "text/plain": [
       "CRS.from_epsg(32617)"
      ]
     },
     "metadata": {},
     "output_type": "display_data"
    }
   ],
   "source": [
    "dataset.crs"
   ]
  },
  {
   "cell_type": "code",
   "execution_count": null,
   "id": "ea9c697b",
   "metadata": {},
   "outputs": [
    {
     "data": {
      "text/plain": [
       "BoundingBox(left=600000.0, bottom=5090220.0, right=709800.0, top=5200020.0)"
      ]
     },
     "metadata": {},
     "output_type": "display_data"
    }
   ],
   "source": [
    "dataset.bounds"
   ]
  },
  {
   "cell_type": "code",
   "execution_count": null,
   "id": "4cf4517c",
   "metadata": {},
   "outputs": [],
   "source": [
    "bounding_box = dataset.bounds"
   ]
  },
  {
   "cell_type": "code",
   "execution_count": null,
   "id": "64f556d8",
   "metadata": {},
   "outputs": [
    {
     "data": {
      "text/plain": [
       "5090220.0"
      ]
     },
     "metadata": {},
     "output_type": "display_data"
    }
   ],
   "source": [
    "bounding_box.bottom"
   ]
  },
  {
   "cell_type": "markdown",
   "id": "1b3627ce",
   "metadata": {},
   "source": [
    "One way to reproject the bounding box - create your own function using pyproj"
   ]
  },
  {
   "cell_type": "code",
   "execution_count": null,
   "id": "26701328",
   "metadata": {},
   "outputs": [],
   "source": [
    "from pyproj import Transformer"
   ]
  },
  {
   "cell_type": "code",
   "execution_count": null,
   "id": "7806a1ff",
   "metadata": {},
   "outputs": [],
   "source": [
    "\n",
    "transformer = Transformer.from_crs(\"epsg:32617\", \n",
    "                                   \"epsg:4326\",\n",
    "                                   always_xy=True,\n",
    "                                  ) \n",
    "\n"
   ]
  },
  {
   "cell_type": "code",
   "execution_count": null,
   "id": "1da9f606",
   "metadata": {},
   "outputs": [],
   "source": [
    "lon, lat, btm_lon,btm_lat = transformer.transform(bounding_box.bottom, bounding_box.left, bounding_box.bottom, bounding_box.right)\n"
   ]
  },
  {
   "cell_type": "code",
   "execution_count": null,
   "id": "f65f29b1",
   "metadata": {},
   "outputs": [],
   "source": [
    "from rasterio import warp"
   ]
  },
  {
   "cell_type": "code",
   "execution_count": null,
   "id": "fce85687",
   "metadata": {},
   "outputs": [
    {
     "data": {
      "text/plain": [
       "BoundingBox(left=600000.0, bottom=5090220.0, right=709800.0, top=5200020.0)"
      ]
     },
     "metadata": {},
     "output_type": "display_data"
    }
   ],
   "source": [
    "bounding_box"
   ]
  },
  {
   "cell_type": "code",
   "execution_count": null,
   "id": "eacabfd0",
   "metadata": {},
   "outputs": [
    {
     "name": "stdout",
     "output_type": "stream",
     "text": [
      "(-79.70951593127886, 45.93349650441821, -78.244415083948, 46.94616825350531)\n"
     ]
    }
   ],
   "source": [
    "bounds_trans = warp.transform_bounds(dataset.crs,{'init': 'epsg:4326'},*bounding_box)\n",
    "print(bounds_trans)"
   ]
  },
  {
   "cell_type": "markdown",
   "id": "a31c2f2c",
   "metadata": {},
   "source": [
    "## Create a Polygon from Bounding Box"
   ]
  },
  {
   "cell_type": "code",
   "execution_count": null,
   "id": "e3beafe6",
   "metadata": {},
   "outputs": [],
   "source": [
    "def generate_poly(bbox):\n",
    "    \"\"\"\n",
    "    Generates a list of coordinates: [[x1,y1],[x2,y2],[x3,y3],[x4,y4],[x1,y1]]\n",
    "    \"\"\"\n",
    "    return [\n",
    "        [bbox[1], bbox[0]],\n",
    "        [bbox[1],bbox[2]],\n",
    "        [bbox[3],bbox[2]],\n",
    "        [bbox[3], bbox[0]],\n",
    "        [bbox[1], bbox[0]]\n",
    "    ]"
   ]
  },
  {
   "cell_type": "code",
   "execution_count": null,
   "id": "73b1bd8a",
   "metadata": {},
   "outputs": [
    {
     "data": {
      "text/plain": [
       "[[45.93349650441821, -79.70951593127886],\n",
       " [45.93349650441821, -78.244415083948],\n",
       " [46.94616825350531, -78.244415083948],\n",
       " [46.94616825350531, -79.70951593127886],\n",
       " [45.93349650441821, -79.70951593127886]]"
      ]
     },
     "metadata": {},
     "output_type": "display_data"
    }
   ],
   "source": [
    "poly = generate_poly(bounds_trans)\n",
    "poly"
   ]
  },
  {
   "cell_type": "code",
   "execution_count": null,
   "id": "7287786a",
   "metadata": {},
   "outputs": [
    {
     "data": {
      "text/plain": [
       "(-79.70951593127886, 45.93349650441821, -78.244415083948, 46.94616825350531)"
      ]
     },
     "metadata": {},
     "output_type": "display_data"
    }
   ],
   "source": [
    "bounds_trans"
   ]
  },
  {
   "cell_type": "code",
   "execution_count": null,
   "id": "8713588c",
   "metadata": {},
   "outputs": [
    {
     "data": {
      "text/plain": [
       "[[-79.70951593127886, 45.93349650441821],\n",
       " [-78.244415083948, 45.93349650441821],\n",
       " [-78.244415083948, 46.94616825350531],\n",
       " [-79.70951593127886, 46.94616825350531],\n",
       " [-79.70951593127886, 45.93349650441821]]"
      ]
     },
     "metadata": {},
     "output_type": "display_data"
    }
   ],
   "source": [
    "# Create Polygon\n",
    "pol_bounds_trans = generate_polygon(bounds_trans)\n",
    "pol_bounds_trans"
   ]
  },
  {
   "cell_type": "markdown",
   "id": "a8bc94f4",
   "metadata": {},
   "source": [
    "## Visualize in Folium"
   ]
  },
  {
   "cell_type": "code",
   "execution_count": null,
   "id": "e83e9948",
   "metadata": {},
   "outputs": [],
   "source": [
    "import folium"
   ]
  },
  {
   "cell_type": "code",
   "execution_count": null,
   "id": "da43bec5",
   "metadata": {},
   "outputs": [
    {
     "data": {
      "text/html": [
       "<div style=\"width:100%;\"><div style=\"position:relative;width:100%;height:0;padding-bottom:60%;\"><span style=\"color:#565656\">Make this Notebook Trusted to load map: File -> Trust Notebook</span><iframe srcdoc=\"&lt;!DOCTYPE html&gt;\n",
       "&lt;head&gt;    \n",
       "    &lt;meta http-equiv=&quot;content-type&quot; content=&quot;text/html; charset=UTF-8&quot; /&gt;\n",
       "    \n",
       "        &lt;script&gt;\n",
       "            L_NO_TOUCH = false;\n",
       "            L_DISABLE_3D = false;\n",
       "        &lt;/script&gt;\n",
       "    \n",
       "    &lt;style&gt;html, body {width: 100%;height: 100%;margin: 0;padding: 0;}&lt;/style&gt;\n",
       "    &lt;style&gt;#map {position:absolute;top:0;bottom:0;right:0;left:0;}&lt;/style&gt;\n",
       "    &lt;script src=&quot;https://cdn.jsdelivr.net/npm/leaflet@1.6.0/dist/leaflet.js&quot;&gt;&lt;/script&gt;\n",
       "    &lt;script src=&quot;https://code.jquery.com/jquery-1.12.4.min.js&quot;&gt;&lt;/script&gt;\n",
       "    &lt;script src=&quot;https://maxcdn.bootstrapcdn.com/bootstrap/3.2.0/js/bootstrap.min.js&quot;&gt;&lt;/script&gt;\n",
       "    &lt;script src=&quot;https://cdnjs.cloudflare.com/ajax/libs/Leaflet.awesome-markers/2.0.2/leaflet.awesome-markers.js&quot;&gt;&lt;/script&gt;\n",
       "    &lt;link rel=&quot;stylesheet&quot; href=&quot;https://cdn.jsdelivr.net/npm/leaflet@1.6.0/dist/leaflet.css&quot;/&gt;\n",
       "    &lt;link rel=&quot;stylesheet&quot; href=&quot;https://maxcdn.bootstrapcdn.com/bootstrap/3.2.0/css/bootstrap.min.css&quot;/&gt;\n",
       "    &lt;link rel=&quot;stylesheet&quot; href=&quot;https://maxcdn.bootstrapcdn.com/bootstrap/3.2.0/css/bootstrap-theme.min.css&quot;/&gt;\n",
       "    &lt;link rel=&quot;stylesheet&quot; href=&quot;https://maxcdn.bootstrapcdn.com/font-awesome/4.6.3/css/font-awesome.min.css&quot;/&gt;\n",
       "    &lt;link rel=&quot;stylesheet&quot; href=&quot;https://cdnjs.cloudflare.com/ajax/libs/Leaflet.awesome-markers/2.0.2/leaflet.awesome-markers.css&quot;/&gt;\n",
       "    &lt;link rel=&quot;stylesheet&quot; href=&quot;https://cdn.jsdelivr.net/gh/python-visualization/folium/folium/templates/leaflet.awesome.rotate.min.css&quot;/&gt;\n",
       "    \n",
       "            &lt;meta name=&quot;viewport&quot; content=&quot;width=device-width,\n",
       "                initial-scale=1.0, maximum-scale=1.0, user-scalable=no&quot; /&gt;\n",
       "            &lt;style&gt;\n",
       "                #map_eacd4e1b181322b7bbba74f947eef36d {\n",
       "                    position: relative;\n",
       "                    width: 100.0%;\n",
       "                    height: 100.0%;\n",
       "                    left: 0.0%;\n",
       "                    top: 0.0%;\n",
       "                }\n",
       "            &lt;/style&gt;\n",
       "        \n",
       "&lt;/head&gt;\n",
       "&lt;body&gt;    \n",
       "    \n",
       "            &lt;div class=&quot;folium-map&quot; id=&quot;map_eacd4e1b181322b7bbba74f947eef36d&quot; &gt;&lt;/div&gt;\n",
       "        \n",
       "&lt;/body&gt;\n",
       "&lt;script&gt;    \n",
       "    \n",
       "            var map_eacd4e1b181322b7bbba74f947eef36d = L.map(\n",
       "                &quot;map_eacd4e1b181322b7bbba74f947eef36d&quot;,\n",
       "                {\n",
       "                    center: [46.43983237896176, -78.97696550761343],\n",
       "                    crs: L.CRS.EPSG3857,\n",
       "                    zoom: 6,\n",
       "                    zoomControl: true,\n",
       "                    preferCanvas: false,\n",
       "                }\n",
       "            );\n",
       "\n",
       "            \n",
       "\n",
       "        \n",
       "    \n",
       "            var tile_layer_e2c860a648bf650ed8e482fb5d824bfe = L.tileLayer(\n",
       "                &quot;https://{s}.tile.openstreetmap.org/{z}/{x}/{y}.png&quot;,\n",
       "                {&quot;attribution&quot;: &quot;Data by \\u0026copy; \\u003ca href=\\&quot;http://openstreetmap.org\\&quot;\\u003eOpenStreetMap\\u003c/a\\u003e, under \\u003ca href=\\&quot;http://www.openstreetmap.org/copyright\\&quot;\\u003eODbL\\u003c/a\\u003e.&quot;, &quot;detectRetina&quot;: false, &quot;maxNativeZoom&quot;: 18, &quot;maxZoom&quot;: 18, &quot;minZoom&quot;: 0, &quot;noWrap&quot;: false, &quot;opacity&quot;: 1, &quot;subdomains&quot;: &quot;abc&quot;, &quot;tms&quot;: false}\n",
       "            ).addTo(map_eacd4e1b181322b7bbba74f947eef36d);\n",
       "        \n",
       "    \n",
       "            var poly_line_3b18a9b1c8783d61774f31f839795ca7 = L.polyline(\n",
       "                [[45.93349650441821, -79.70951593127886], [45.93349650441821, -78.244415083948], [46.94616825350531, -78.244415083948], [46.94616825350531, -79.70951593127886], [45.93349650441821, -79.70951593127886]],\n",
       "                {&quot;bubblingMouseEvents&quot;: true, &quot;color&quot;: &quot;orange&quot;, &quot;dashArray&quot;: null, &quot;dashOffset&quot;: null, &quot;fill&quot;: false, &quot;fillColor&quot;: &quot;orange&quot;, &quot;fillOpacity&quot;: 0.2, &quot;fillRule&quot;: &quot;evenodd&quot;, &quot;lineCap&quot;: &quot;round&quot;, &quot;lineJoin&quot;: &quot;round&quot;, &quot;noClip&quot;: false, &quot;opacity&quot;: 1.0, &quot;smoothFactor&quot;: 1.0, &quot;stroke&quot;: true, &quot;weight&quot;: 3}\n",
       "            ).addTo(map_eacd4e1b181322b7bbba74f947eef36d);\n",
       "        \n",
       "    \n",
       "        var popup_6ef21595bbd827d5998a83916aa9716d = L.popup({&quot;maxWidth&quot;: &quot;100%&quot;});\n",
       "\n",
       "        \n",
       "            \n",
       "                var html_e2d7a0bb60bc6cf43f666e9b6eb27c11 = $(`&lt;div id=&quot;html_e2d7a0bb60bc6cf43f666e9b6eb27c11&quot; style=&quot;width: 100.0%; height: 100.0%;&quot;&gt;polygon_trans_original&lt;/div&gt;`)[0];\n",
       "                popup_6ef21595bbd827d5998a83916aa9716d.setContent(html_e2d7a0bb60bc6cf43f666e9b6eb27c11);\n",
       "            \n",
       "        \n",
       "\n",
       "        poly_line_3b18a9b1c8783d61774f31f839795ca7.bindPopup(popup_6ef21595bbd827d5998a83916aa9716d)\n",
       "        ;\n",
       "\n",
       "        \n",
       "    \n",
       "&lt;/script&gt;\" style=\"position:absolute;width:100%;height:100%;left:0;top:0;border:none !important;\" allowfullscreen webkitallowfullscreen mozallowfullscreen></iframe></div></div>"
      ],
      "text/plain": [
       "<folium.folium.Map at 0x7f5848ef90c0>"
      ]
     },
     "metadata": {},
     "output_type": "display_data"
    }
   ],
   "source": [
    "\n",
    "# original bounds of the image\n",
    "\n",
    "polyline_polygon_trans_original = folium.PolyLine(poly,\n",
    "                                                  popup=\"polygon_trans_original\",\n",
    "                                                  color=\"orange\")\n",
    "\n",
    "\n",
    "mean_lat = (bounds_trans[1] + bounds_trans[3]) / 2.0\n",
    "mean_lng = (bounds_trans[0] + bounds_trans[2]) / 2.0\n",
    "map_bb = folium.Map(location=[mean_lat,mean_lng],\n",
    "                zoom_start=6)\n",
    "map_bb.add_child(polyline_polygon_trans_original)\n",
    "map_bb"
   ]
  },
  {
   "cell_type": "markdown",
   "id": "4b85ed55",
   "metadata": {},
   "source": [
    "A second way:"
   ]
  },
  {
   "cell_type": "code",
   "execution_count": null,
   "id": "bb1294d2",
   "metadata": {},
   "outputs": [],
   "source": [
    "import rioxarray \n",
    "import xarray"
   ]
  },
  {
   "cell_type": "code",
   "execution_count": null,
   "id": "3ecc006d",
   "metadata": {},
   "outputs": [
    {
     "ename": "AttributeError",
     "evalue": "'BoundingBox' object has no attribute 'rio'",
     "output_type": "error",
     "traceback": [
      "\u001b[0;31m---------------------------------------------------------------------------\u001b[0m\n",
      "\u001b[0;31mAttributeError\u001b[0m                            Traceback (most recent call last)\n",
      "Cell \u001b[0;32mIn [29], line 1\u001b[0m\n",
      "\u001b[0;32m----> 1\u001b[0m xds_lonlat \u001b[38;5;241m=\u001b[39m \u001b[43mbounding_box\u001b[49m\u001b[38;5;241;43m.\u001b[39;49m\u001b[43mrio\u001b[49m\u001b[38;5;241m.\u001b[39mreproject(\u001b[38;5;124m\"\u001b[39m\u001b[38;5;124mEPSG:4326\u001b[39m\u001b[38;5;124m\"\u001b[39m)\n",
      "\n",
      "\u001b[0;31mAttributeError\u001b[0m: 'BoundingBox' object has no attribute 'rio'"
     ]
    }
   ],
   "source": [
    "xds_lonlat = bounding_box.rio.reproject(\"EPSG:4326\")"
   ]
  },
  {
   "cell_type": "code",
   "execution_count": null,
   "id": "7f89a37a",
   "metadata": {},
   "outputs": [
    {
     "ename": "AttributeError",
     "evalue": "'DatasetReader' object has no attribute 'rio'",
     "output_type": "error",
     "traceback": [
      "\u001b[0;31m---------------------------------------------------------------------------\u001b[0m\n",
      "\u001b[0;31mAttributeError\u001b[0m                            Traceback (most recent call last)\n",
      "Cell \u001b[0;32mIn [34], line 1\u001b[0m\n",
      "\u001b[0;32m----> 1\u001b[0m \u001b[43mdataset\u001b[49m\u001b[38;5;241;43m.\u001b[39;49m\u001b[43mrio\u001b[49m\u001b[38;5;241m.\u001b[39mbounds()\n",
      "\n",
      "\u001b[0;31mAttributeError\u001b[0m: 'DatasetReader' object has no attribute 'rio'"
     ]
    }
   ],
   "source": [
    "dataset.rio.bounds()"
   ]
  },
  {
   "cell_type": "markdown",
   "id": "db3010e6",
   "metadata": {},
   "source": []
  },
  {
   "cell_type": "code",
   "execution_count": null,
   "metadata": {},
   "outputs": [
    {
     "name": "stdout",
     "output_type": "stream",
     "text": [
      "POLYGON ((709800 5090220, 709800 5200020, 600000 5200020, 600000 5090220, 709800 5090220))\n"
     ]
    }
   ],
   "source": [
    "from shapely.geometry import box\n",
    "geom = box(*bounding_box)\n",
    "print(geom.wkt)"
   ]
  },
  {
   "cell_type": "code",
   "execution_count": null,
   "id": "3e4bcf2c",
   "metadata": {},
   "outputs": [
    {
     "ename": "ImportError",
     "evalue": "cannot import name 'Point' from 'shapely' (/home/lauren/miniconda3/envs/pystac-env/lib/python3.10/site-packages/shapely/__init__.py)",
     "output_type": "error",
     "traceback": [
      "\u001b[0;31m---------------------------------------------------------------------------\u001b[0m\n",
      "\u001b[0;31mImportError\u001b[0m                               Traceback (most recent call last)\n",
      "Cell \u001b[0;32mIn [34], line 3\u001b[0m\n",
      "\u001b[1;32m      1\u001b[0m \u001b[38;5;28;01mimport\u001b[39;00m \u001b[38;5;21;01mpyproj\u001b[39;00m\n",
      "\u001b[0;32m----> 3\u001b[0m \u001b[38;5;28;01mfrom\u001b[39;00m \u001b[38;5;21;01mshapely\u001b[39;00m \u001b[38;5;28;01mimport\u001b[39;00m Point\n",
      "\u001b[1;32m      4\u001b[0m \u001b[38;5;28;01mfrom\u001b[39;00m \u001b[38;5;21;01mshapely\u001b[39;00m\u001b[38;5;21;01m.\u001b[39;00m\u001b[38;5;21;01mops\u001b[39;00m \u001b[38;5;28;01mimport\u001b[39;00m transform\n",
      "\n",
      "\u001b[0;31mImportError\u001b[0m: cannot import name 'Point' from 'shapely' (/home/lauren/miniconda3/envs/pystac-env/lib/python3.10/site-packages/shapely/__init__.py)"
     ]
    }
   ],
   "source": [
    "import pyproj\n",
    "\n",
    "from shapely import Point\n",
    "from shapely.ops import transform\n",
    "\n"
   ]
  },
  {
   "cell_type": "code",
   "execution_count": null,
   "id": "a9d7de25",
   "metadata": {},
   "outputs": [
    {
     "data": {
      "text/plain": [
       "<Geographic 2D CRS: EPSG:4326>\n",
       "Name: WGS 84\n",
       "Axis Info [ellipsoidal]:\n",
       "- Lat[north]: Geodetic latitude (degree)\n",
       "- Lon[east]: Geodetic longitude (degree)\n",
       "Area of Use:\n",
       "- name: World.\n",
       "- bounds: (-180.0, -90.0, 180.0, 90.0)\n",
       "Datum: World Geodetic System 1984 ensemble\n",
       "- Ellipsoid: WGS 84\n",
       "- Prime Meridian: Greenwich"
      ]
     },
     "metadata": {},
     "output_type": "display_data"
    }
   ],
   "source": [
    "crs = CRS.from_epsg(4326)\n",
    "crs"
   ]
  },
  {
   "cell_type": "code",
   "execution_count": null,
   "id": "7d8ff885",
   "metadata": {},
   "outputs": [],
   "source": [
    "from pystac_client import Client\n",
    "#catalog or api?\n",
    "catalog = Client.open(\"https://earth-search.aws.element84.com/v0\")"
   ]
  },
  {
   "cell_type": "code",
   "execution_count": null,
   "id": "7f046ed6",
   "metadata": {},
   "outputs": [
    {
     "name": "stdout",
     "output_type": "stream",
     "text": [
      "0 items found\n"
     ]
    }
   ],
   "source": [
    "mysearch = catalog.search(\n",
    "    collections=['sentinel-s2-l1c'],\n",
    "    intersects =geom,\n",
    "    max_items=10)\n",
    "print(f\"{mysearch.matched()} items found\")"
   ]
  }
 ],
 "metadata": {
  "kernelspec": {
   "display_name": "Python 3.10.6 ('pystac-env')",
   "language": "python",
   "name": "python3"
  },
  "language_info": {
   "codemirror_mode": {
    "name": "ipython",
    "version": 3
   },
   "file_extension": ".py",
   "mimetype": "text/x-python",
   "name": "python",
   "nbconvert_exporter": "python",
   "pygments_lexer": "ipython3",
   "version": "3.10.6"
  },
  "orig_nbformat": 4,
  "vscode": {
   "interpreter": {
    "hash": "3970342d08cb39a5a41c1dbc5e0a247e3de5b241085bb7b541f4608ec8838915"
   }
  }
 },
 "nbformat": 4,
 "nbformat_minor": 2
}
